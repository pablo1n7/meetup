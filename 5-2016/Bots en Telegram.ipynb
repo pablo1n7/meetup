{
 "cells": [
  {
   "cell_type": "markdown",
   "metadata": {
    "collapsed": true
   },
   "source": [
    " # Bots en Telegram"
   ]
  },
  {
   "cell_type": "markdown",
   "metadata": {},
   "source": [
    "* TELEGRAM - Servicio de mensajeria\n",
    "\n",
    "\n",
    "* BOT TELEGRAM, usos\n",
    "\n",
    "    * Mensajeria automatica en grupos.\n",
    "    * Envio y recepcion de archivos, fotos, datos.\n",
    "    * Recepcion de Encuestas , informacion clima, noticias, etc.\n",
    "    * Servicio comerciales a clientes, recepcion de reclamos , precios , ventas.\n",
    "    * Utilizacion de monitoreo propias.\n",
    "    * Integracion a plataformas sociales con Ifttt :instagram , google acounts, twiter, faceebok.\n",
    "    * Domotica, robotica.\n",
    "    * Chats con inteligencia artificial."
   ]
  },
  {
   "cell_type": "markdown",
   "metadata": {},
   "source": [
    "## instalando la API"
   ]
  },
  {
   "cell_type": "code",
   "execution_count": null,
   "metadata": {
    "collapsed": false
   },
   "outputs": [],
   "source": [
    "! pip install pyTelegramBotAPI"
   ]
  },
  {
   "cell_type": "markdown",
   "metadata": {},
   "source": [
    "## [Documentación de la API](https://core.telegram.org/api)"
   ]
  },
  {
   "cell_type": "markdown",
   "metadata": {
    "collapsed": false
   },
   "source": [
    "## Que necesitamos ?"
   ]
  },
  {
   "cell_type": "code",
   "execution_count": null,
   "metadata": {
    "collapsed": false
   },
   "outputs": [],
   "source": [
    "Image(filename='images/botfather.png')"
   ]
  },
  {
   "cell_type": "markdown",
   "metadata": {},
   "source": [
    "## [@Botfather](https://web.telegram.org/#/im?p=@BotFather)"
   ]
  },
  {
   "cell_type": "code",
   "execution_count": null,
   "metadata": {
    "collapsed": false
   },
   "outputs": [],
   "source": [
    "import telebot\n",
    "TOKEN = ''\n",
    "bot = telebot.TeleBot(TOKEN)"
   ]
  },
  {
   "cell_type": "code",
   "execution_count": null,
   "metadata": {
    "collapsed": false
   },
   "outputs": [],
   "source": [
    "\"\"\"\n",
    "Función que maneja el comando \n",
    "\n",
    "\"\\echo\"\n",
    "\n",
    "\"\"\"\n",
    "@bot.message_handler(commands=['echo'])\n",
    "def echo(message):\n",
    "    cid = message.chat.id # id de la conversación\n",
    "    message = message.text\n",
    "    bot.send_message(cid,message.split(\"/echo\")[1])"
   ]
  },
  {
   "cell_type": "code",
   "execution_count": null,
   "metadata": {
    "collapsed": true
   },
   "outputs": [],
   "source": [
    "\"\"\"\n",
    "Caluladora, todo lo que tenga formato: \n",
    "        numero (+,*,/) numero  \n",
    "    es manejado por la funcion \"calc\"\n",
    "\"\"\"\n",
    "@bot.message_handler(regexp=\"^(\\d+(\\\\+|\\\\*|\\\\/))+\\d+$\")\n",
    "def calc(message):\n",
    "    cid = message.chat.id \n",
    "    bot.send_message(cid,eval(message.text))"
   ]
  },
  {
   "cell_type": "code",
   "execution_count": null,
   "metadata": {
    "collapsed": true
   },
   "outputs": [],
   "source": [
    "\"\"\"\n",
    "Todo lo que no cumple con el formato calculadora es manejado por esta función\n",
    "\n",
    "\"\"\"\n",
    "@bot.message_handler(regexp=\"^\\w+(.+)$\")\n",
    "def handle_message(message):\n",
    "    cid = message.chat.id \n",
    "    bot.send_message(cid,\"No entiendo :/, yo solo se sumar, dividir y restar :( pero estoy hecho en python :D\")"
   ]
  },
  {
   "cell_type": "code",
   "execution_count": null,
   "metadata": {
    "collapsed": false
   },
   "outputs": [],
   "source": [
    "bot.polling(none_stop=\"False\")"
   ]
  },
  {
   "cell_type": "markdown",
   "metadata": {
    "collapsed": false
   },
   "source": [
    "* VENTAJAS\n",
    "   * Implementacion de servicios internet sin necesidad de instalacion de servicios web , el Bot solo tiene que correr.\n",
    "   * Cliente no tiene que instalar software extra.\n",
    "   * Baja utilizacion de recursos, ancho de banda y moviles de bajo rango.\n",
    "  \n",
    "* DESVENTAJAS\n",
    "   * Bots , con mucho trafico puede ponerse lentos"
   ]
  }
 ],
 "metadata": {
  "kernelspec": {
   "display_name": "Python 3",
   "language": "python",
   "name": "python3"
  },
  "language_info": {
   "codemirror_mode": {
    "name": "ipython",
    "version": 3
   },
   "file_extension": ".py",
   "mimetype": "text/x-python",
   "name": "python",
   "nbconvert_exporter": "python",
   "pygments_lexer": "ipython3",
   "version": "3.5.2"
  }
 },
 "nbformat": 4,
 "nbformat_minor": 1
}
