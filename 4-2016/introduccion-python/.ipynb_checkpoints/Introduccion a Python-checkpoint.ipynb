{
 "cells": [
  {
   "cell_type": "markdown",
   "metadata": {
    "collapsed": false,
    "slideshow": {
     "slide_type": "slide"
    }
   },
   "source": [
    "# Introducción a Python\n",
    "\n",
    "![Python](images/python-logo.svg)"
   ]
  },
  {
   "cell_type": "markdown",
   "metadata": {
    "collapsed": true,
    "slideshow": {
     "slide_type": "slide"
    }
   },
   "source": [
    "# Python\n",
    "\n",
    "* Guido van Rosum / 1991 / Código abierto\n",
    "* Alto nivel\n",
    "* Interpretado\n",
    "* Tipado dinámico y fuerte\n",
    "* Multiparadigma (objetos, imperativo, funcional)\n",
    "* Multiplataforma"
   ]
  },
  {
   "cell_type": "markdown",
   "metadata": {
    "slideshow": {
     "slide_type": "fragment"
    }
   },
   "source": [
    "* Fácil y divertido\n",
    "* BBC “Monty Python’s Flying Circus”"
   ]
  },
  {
   "cell_type": "code",
   "execution_count": 1,
   "metadata": {
    "collapsed": false,
    "slideshow": {
     "slide_type": "subslide"
    }
   },
   "outputs": [
    {
     "name": "stdout",
     "output_type": "stream",
     "text": [
      "The Zen of Python, by Tim Peters\n",
      "\n",
      "Beautiful is better than ugly.\n",
      "Explicit is better than implicit.\n",
      "Simple is better than complex.\n",
      "Complex is better than complicated.\n",
      "Flat is better than nested.\n",
      "Sparse is better than dense.\n",
      "Readability counts.\n",
      "Special cases aren't special enough to break the rules.\n",
      "Although practicality beats purity.\n",
      "Errors should never pass silently.\n",
      "Unless explicitly silenced.\n",
      "In the face of ambiguity, refuse the temptation to guess.\n",
      "There should be one-- and preferably only one --obvious way to do it.\n",
      "Although that way may not be obvious at first unless you're Dutch.\n",
      "Now is better than never.\n",
      "Although never is often better than *right* now.\n",
      "If the implementation is hard to explain, it's a bad idea.\n",
      "If the implementation is easy to explain, it may be a good idea.\n",
      "Namespaces are one honking great idea -- let's do more of those!\n"
     ]
    }
   ],
   "source": [
    "import this"
   ]
  },
  {
   "cell_type": "markdown",
   "metadata": {
    "slideshow": {
     "slide_type": "subslide"
    }
   },
   "source": [
    "# Tipos\n",
    "\n",
    "* Números (int, float)\n",
    "* None\n",
    "* Boleanos (Valores de verdad)\n",
    "* Strings (Comillas simples y dobles, escapar comillas, múltiples líneas)"
   ]
  },
  {
   "cell_type": "markdown",
   "metadata": {
    "slideshow": {
     "slide_type": "fragment"
    }
   },
   "source": [
    "* Tuplas\n",
    "    * (1, 2, 3)\n",
    "* Listas\n",
    "    * [1, 2, 3]\n",
    "* Diccionarios\n",
    "    * {\"uno\":1, \"dos\":2, \"tres\":3}"
   ]
  },
  {
   "cell_type": "markdown",
   "metadata": {
    "slideshow": {
     "slide_type": "subslide"
    }
   },
   "source": [
    "# Operaciones\n",
    "\n",
    "* Numéricas\n",
    "    * +, -, /, //, \\*, \\*\\*, %\n",
    "* Strings\n",
    "    * +, \\*, %, []\n",
    "* Asignación\n",
    "    * =, +=, -=, /=\n",
    "* Lógicas (Retornan valores)\n",
    "    * and, or, not\n",
    "* Comparación\n",
    "    * ==, >=, <=, !=\n",
    "    * == != is"
   ]
  },
  {
   "cell_type": "markdown",
   "metadata": {
    "slideshow": {
     "slide_type": "subslide"
    }
   },
   "source": [
    "# Control de flujo\n",
    "\n",
    "* if else elif\n",
    "* for (foreach se itera sobre secuencias)\n",
    "    * range()\n",
    "* while\n",
    "* break, continue, y else en bucles\n",
    "* pass"
   ]
  },
  {
   "cell_type": "markdown",
   "metadata": {
    "slideshow": {
     "slide_type": "fragment"
    }
   },
   "source": [
    "* La indentación cuenta!!!"
   ]
  },
  {
   "cell_type": "code",
   "execution_count": 3,
   "metadata": {
    "collapsed": false,
    "slideshow": {
     "slide_type": "fragment"
    }
   },
   "outputs": [
    {
     "name": "stdout",
     "output_type": "stream",
     "text": [
      "2 es un numero primo\n",
      "3 es un numero primo\n",
      "4 es igual a 2 * 2\n",
      "5 es un numero primo\n",
      "6 es igual a 2 * 3\n",
      "7 es un numero primo\n",
      "8 es igual a 2 * 4\n",
      "9 es igual a 3 * 3\n"
     ]
    }
   ],
   "source": [
    "for n in range(2, 10):\n",
    "    for x in range(2, n):\n",
    "        if n % x == 0: # Es un factor?\n",
    "            print(n, 'es igual a', x, '*', n // x)\n",
    "            break\n",
    "    else: # Sigue el bucle sin encontrar un factor\n",
    "        print(n, 'es un numero primo')"
   ]
  },
  {
   "cell_type": "markdown",
   "metadata": {
    "slideshow": {
     "slide_type": "slide"
    }
   },
   "source": [
    "## Listas\n",
    "\n",
    "* list() o []\n",
    "* Consultar\n",
    "    * Indexing\n",
    "    * Slicing\n",
    "    * Pertenencia\n",
    "* Modificar\n",
    "    * Borrado\n",
    "    * Asignación\n",
    "* Pilas, colas\n",
    "* List comprehensions"
   ]
  },
  {
   "cell_type": "code",
   "execution_count": 1,
   "metadata": {
    "collapsed": false,
    "slideshow": {
     "slide_type": "subslide"
    }
   },
   "outputs": [
    {
     "name": "stdout",
     "output_type": "stream",
     "text": [
      "M ['H', 'o', 'l', 'a'] ['l', 'a', ' ', 'M', 'u', 'n'] ['l', 'a', ' ', 'M', 'u', 'n', 'd', 'o']\n",
      "True\n",
      "['H', 'o', 'l', 'a', ' ', 'M', 'u', 'n', 'd']\n",
      "['o', 'l', 'a', ' ', 'M', 'u', 'n', 'd', 'o']\n"
     ]
    },
    {
     "data": {
      "text/plain": [
       "[0, 1, 4, 9, 16, 25, 36, 49, 64, 81]"
      ]
     },
     "execution_count": 1,
     "metadata": {},
     "output_type": "execute_result"
    }
   ],
   "source": [
    "lista = list(\"Hola Mundo\")\n",
    "\n",
    "print(lista[5], lista[:4], lista[2:8], lista[2:])\n",
    "print('M' in lista)\n",
    "\n",
    "pila = lista[:]\n",
    "pila.pop()\n",
    "print(pila)\n",
    "\n",
    "cola = lista[:]\n",
    "cola.pop(0)\n",
    "print(cola)\n",
    "\n",
    "[x ** 2 for x in range(10)]"
   ]
  },
  {
   "cell_type": "markdown",
   "metadata": {
    "slideshow": {
     "slide_type": "slide"
    }
   },
   "source": [
    "## Diccionarios\n",
    "\n",
    "* dict() o {}\n",
    "* Consultar\n",
    "    * Indexing\n",
    "    * Pertenencia\n",
    "* Modificar\n",
    "    * Borrado\n",
    "* Dict comprehensions?"
   ]
  },
  {
   "cell_type": "code",
   "execution_count": 2,
   "metadata": {
    "collapsed": false,
    "slideshow": {
     "slide_type": "subslide"
    }
   },
   "outputs": [
    {
     "name": "stdout",
     "output_type": "stream",
     "text": [
      "1\n",
      "dos 2\n",
      "uno 1\n",
      "tres 3\n",
      "{'uno': 1, 'tres': 3}\n"
     ]
    },
    {
     "data": {
      "text/plain": [
       "{'1': 1, '2': 2, '3': 3, '4': 4, '5': 5, '6': 6, '7': 7, '8': 8, '9': 9}"
      ]
     },
     "execution_count": 2,
     "metadata": {},
     "output_type": "execute_result"
    }
   ],
   "source": [
    "dicc = dict([(\"uno\", 1), (\"dos\", 2), (\"tres\", 3)])\n",
    "\n",
    "print(dicc[\"uno\"])\n",
    "for k, v in dicc.items():\n",
    "    print(k, v)\n",
    "\n",
    "del dicc[\"dos\"]\n",
    "print(dicc)\n",
    "\n",
    "{key: value for key, value in zip(\"123456789\", range(1, 11))}"
   ]
  },
  {
   "cell_type": "markdown",
   "metadata": {
    "collapsed": true,
    "slideshow": {
     "slide_type": "slide"
    }
   },
   "source": [
    "## Valores o referencias?\n",
    "\n",
    "* Todo es un objeto\n",
    "    * Inmutables\n",
    "    * Mutables\n",
    "* El acceso a los objetos se realiza mediante \"variables\"\n",
    "* Se asignan los objetos a las variables\n",
    "* Luego, las variables son etiquetas"
   ]
  },
  {
   "cell_type": "markdown",
   "metadata": {
    "slideshow": {
     "slide_type": "fragment"
    }
   },
   "source": [
    "### Tipos inmutables\n",
    "\n",
    "* Las etiquetas apuntan a un nuevo valor\n",
    "    * Números, strings, tuplas, ..."
   ]
  },
  {
   "cell_type": "markdown",
   "metadata": {
    "slideshow": {
     "slide_type": "fragment"
    }
   },
   "source": [
    "### Tipos mutables\n",
    "\n",
    "* Se opera sobre el valor apuntado por la etiqueta\n",
    "    * Listas, conjuntos, diccionarios..."
   ]
  },
  {
   "cell_type": "markdown",
   "metadata": {
    "slideshow": {
     "slide_type": "slide"
    }
   },
   "source": [
    "# Funciones\n",
    "\n",
    "* def\n",
    "* global\n",
    "* return"
   ]
  },
  {
   "cell_type": "code",
   "execution_count": 3,
   "metadata": {
    "collapsed": false,
    "slideshow": {
     "slide_type": "fragment"
    }
   },
   "outputs": [
    {
     "name": "stdout",
     "output_type": "stream",
     "text": [
      "[2, 3, 4, 5, 7, 11, 13, 17, 19, 23, 29, 31, 37, 41, 43, 47, 53, 59, 61, 67, 71, 73, 79, 83, 89, 97]\n"
     ]
    }
   ],
   "source": [
    "def retornar_primos(n):\n",
    "    \"Función que retorna los números primos hasta n\"\n",
    "    primos = []\n",
    "    for i in range(2, n):\n",
    "        for x in primos[1:]:\n",
    "            if i % x == 0:\n",
    "                break     #No se ejecuta el else\n",
    "        else:\n",
    "            primos.append(i)\n",
    "    return primos\n",
    "print(retornar_primos(100))"
   ]
  },
  {
   "cell_type": "markdown",
   "metadata": {
    "slideshow": {
     "slide_type": "subslide"
    }
   },
   "source": [
    "## Parámetros\n",
    "\n",
    "* Posicionales\n",
    "* Variables\n",
    "* Nombrados\n",
    "* Valor por omisión\n",
    "* Desempaquetando"
   ]
  },
  {
   "cell_type": "code",
   "execution_count": 4,
   "metadata": {
    "collapsed": false,
    "slideshow": {
     "slide_type": "fragment"
    }
   },
   "outputs": [
    {
     "name": "stdout",
     "output_type": "stream",
     "text": [
      "30 / ('uno, dos, tres', 'cuatro, cinco') / # / {'nombre': 'Pedro'}\n",
      "1 / (2, 3) / 1 / {'nombre': 'Pedro'}\n"
     ]
    }
   ],
   "source": [
    "def banner(ancho, *args, caracter='#', **kwargs):\n",
    "    print(ancho, \"/\", args, \"/\", caracter, \"/\", kwargs)\n",
    "banner(30, \"uno, dos, tres\", \"cuatro, cinco\", nombre=\"Pedro\")\n",
    "a = (1,2,3)\n",
    "b = {\"nombre\": \"Pedro\"}\n",
    "banner(caracter=1, *a, **b)"
   ]
  },
  {
   "cell_type": "markdown",
   "metadata": {
    "slideshow": {
     "slide_type": "subslide"
    }
   },
   "source": [
    "## Lambdas\n",
    "\n",
    "Funciones anónimas"
   ]
  },
  {
   "cell_type": "code",
   "execution_count": 5,
   "metadata": {
    "collapsed": false,
    "slideshow": {
     "slide_type": "fragment"
    }
   },
   "outputs": [
    {
     "name": "stdout",
     "output_type": "stream",
     "text": [
      "7\n",
      "42\n"
     ]
    }
   ],
   "source": [
    "def tabla_del(n):\n",
    "    return lambda x: x * n\n",
    "\n",
    "site_por = tabla_del(7)\n",
    "print(site_por(1))\n",
    "print(site_por(6))"
   ]
  },
  {
   "cell_type": "markdown",
   "metadata": {
    "slideshow": {
     "slide_type": "subslide"
    }
   },
   "source": [
    "# Generadores"
   ]
  },
  {
   "cell_type": "code",
   "execution_count": 8,
   "metadata": {
    "collapsed": false,
    "slideshow": {
     "slide_type": "fragment"
    }
   },
   "outputs": [
    {
     "name": "stdout",
     "output_type": "stream",
     "text": [
      "<generator object generar_primos at 0x7f12f15c1ca8>\n",
      "[2, 3, 5, 7, 11, 13, 17, 19, 23, 29, 31, 37, 41, 43, 47, 53, 59, 61, 67, 71, 73, 79, 83, 89, 97]\n"
     ]
    }
   ],
   "source": [
    "def generar_primos(n):\n",
    "    \"Función que genera los números primos hasta n\"\n",
    "    for i in range(2, n):\n",
    "        for x in range(2, i):\n",
    "            if i % x == 0:\n",
    "                break     #No se ejecuta el else\n",
    "        else:\n",
    "            yield i\n",
    "print(generar_primos(100))\n",
    "print(list(generar_primos(100)))"
   ]
  },
  {
   "cell_type": "code",
   "execution_count": 9,
   "metadata": {
    "collapsed": false,
    "slideshow": {
     "slide_type": "subslide"
    }
   },
   "outputs": [
    {
     "name": "stdout",
     "output_type": "stream",
     "text": [
      "6.812725067138672\n",
      "6.651878356933594e-05\n"
     ]
    }
   ],
   "source": [
    "from time import time\n",
    "now = time()\n",
    "retornar_primos(100000)\n",
    "print(time() - now)\n",
    "now = time()\n",
    "generar_primos(100000)\n",
    "print(time() - now)"
   ]
  },
  {
   "cell_type": "markdown",
   "metadata": {
    "slideshow": {
     "slide_type": "slide"
    }
   },
   "source": [
    "## Documentación"
   ]
  },
  {
   "cell_type": "code",
   "execution_count": 10,
   "metadata": {
    "collapsed": false,
    "slideshow": {
     "slide_type": "fragment"
    }
   },
   "outputs": [
    {
     "name": "stdout",
     "output_type": "stream",
     "text": [
      "Help on function retornar_primos in module __main__:\n",
      "\n",
      "retornar_primos(n)\n",
      "    Función que retorna los números primos hasta n\n",
      "\n",
      "Help on function generar_primos in module __main__:\n",
      "\n",
      "generar_primos(n)\n",
      "    Función que genera los números primos hasta n\n",
      "\n"
     ]
    }
   ],
   "source": [
    "help(retornar_primos)\n",
    "help(generar_primos)"
   ]
  },
  {
   "cell_type": "markdown",
   "metadata": {
    "slideshow": {
     "slide_type": "slide"
    }
   },
   "source": [
    "## Interactivo\n",
    "\n",
    "> Hablar con el interprete\n",
    "\n",
    "* python\n",
    "* ipython"
   ]
  },
  {
   "cell_type": "markdown",
   "metadata": {
    "slideshow": {
     "slide_type": "slide"
    }
   },
   "source": [
    "## Scripting\n",
    "\n",
    "> Ejecutar un archivo\n",
    "\n",
    "* Modulos\n",
    "* Espacio de nombres\n",
    "    * dir()\n",
    "* import\n",
    "* if \\_\\_name\\_\\_ == \"\\_\\_main\\_\\_\":\n",
    "* Paquetes \\_\\_init\\_\\_.py\n",
    "* from import as\n",
    "\n",
    "![Linux vs windows](images/linuxvswindows.jpg)"
   ]
  },
  {
   "cell_type": "code",
   "execution_count": 17,
   "metadata": {
    "collapsed": false,
    "slideshow": {
     "slide_type": "subslide"
    }
   },
   "outputs": [
    {
     "name": "stdout",
     "output_type": "stream",
     "text": [
      "['__displayhook__', '__doc__', '__excepthook__', '__loader__', '__name__', '__package__', '__spec__', '__stderr__', '__stdin__', '__stdout__', '_clear_type_cache', '_current_frames', '_debugmallocstats', '_getframe', '_mercurial', '_xoptions', 'abiflags', 'api_version', 'argv', 'base_exec_prefix', 'base_prefix', 'builtin_module_names', 'byteorder', 'call_tracing', 'callstats', 'copyright', 'displayhook', 'dont_write_bytecode', 'exc_info', 'excepthook', 'exec_prefix', 'executable', 'exit', 'flags', 'float_info', 'float_repr_style', 'getallocatedblocks', 'getcheckinterval', 'getdefaultencoding', 'getdlopenflags', 'getfilesystemencoding', 'getprofile', 'getrecursionlimit', 'getrefcount', 'getsizeof', 'getswitchinterval', 'gettrace', 'hash_info', 'hexversion', 'implementation', 'int_info', 'intern', 'maxsize', 'maxunicode', 'meta_path', 'modules', 'path', 'path_hooks', 'path_importer_cache', 'platform', 'prefix', 'ps1', 'ps2', 'ps3', 'real_prefix', 'setcheckinterval', 'setdlopenflags', 'setprofile', 'setrecursionlimit', 'setswitchinterval', 'settrace', 'stderr', 'stdin', 'stdout', 'thread_info', 'version', 'version_info', 'warnoptions']\n",
      "[1, 1, 2, 3, 5, 8, 13, 21, 34, 55, 89]\n",
      "1 1 2 3 5 8 13 21 34 55 89 \n"
     ]
    }
   ],
   "source": [
    "import sys\n",
    "print(dir(sys))\n",
    "!python main.py -f 100\n",
    "!python paquete/fibo.py 100\n"
   ]
  },
  {
   "cell_type": "markdown",
   "metadata": {
    "slideshow": {
     "slide_type": "slide"
    }
   },
   "source": [
    "# Clases\n",
    "\n",
    "* class\n",
    "* Todo es público\n",
    "    * \\_\\_\n",
    "* Herencia multiple\n",
    "    * MRO\n",
    "* Métodos (classmethod, staticmethod, self)\n",
    "    * Signatura, sobrecarga\n",
    "* Properties (getters, setters)\n",
    "* Magics (\\_\\_init\\_\\_, \\_\\_str\\_\\_, \\_\\_eq\\_\\_)"
   ]
  },
  {
   "cell_type": "code",
   "execution_count": 18,
   "metadata": {
    "collapsed": false,
    "slideshow": {
     "slide_type": "fragment"
    }
   },
   "outputs": [
    {
     "name": "stdout",
     "output_type": "stream",
     "text": [
      "1, 2\n"
     ]
    }
   ],
   "source": [
    "class Punto(object):\n",
    "    \"\"\"Clase punto\n",
    "    \n",
    "    x, y\n",
    "    \"\"\"\n",
    "    \n",
    "    def __init__(self, x, y):\n",
    "        self.x = x\n",
    "        self.y = y\n",
    "\n",
    "    def __str__(self):\n",
    "        return \"%s, %s\" % (self.x, self.y)\n",
    "\n",
    "p = Punto(1, 2)\n",
    "print(p)"
   ]
  },
  {
   "cell_type": "markdown",
   "metadata": {
    "collapsed": true,
    "slideshow": {
     "slide_type": "subslide"
    }
   },
   "source": [
    "## No todo tiene que ser una clase"
   ]
  },
  {
   "cell_type": "code",
   "execution_count": 1,
   "metadata": {
    "collapsed": false,
    "slideshow": {
     "slide_type": "fragment"
    }
   },
   "outputs": [
    {
     "name": "stdout",
     "output_type": "stream",
     "text": [
      "(1, 2, 1, 2)\n",
      "(1, 2, 1, 2, 1, 2, 1, 2)\n",
      "Vector(x=2, y=4)\n",
      "Vector(x=4, y=8)\n"
     ]
    }
   ],
   "source": [
    "from collections import namedtuple\n",
    "\n",
    "Punto = namedtuple(\"Punto\", \"x y\")\n",
    "class Vector(Punto):\n",
    "    def __add__(self, vector):\n",
    "        return Vector(self.x + vector.x, self.y + vector.y)\n",
    "\n",
    "    def __mul__(self, k):\n",
    "        return Vector(self.x * k, self.y * k)\n",
    "\n",
    "p = Punto(1,2)\n",
    "print(p + p)\n",
    "print(p * 4)\n",
    "v = Vector(1, 2)\n",
    "print(v + v)\n",
    "print(v * 4)"
   ]
  },
  {
   "cell_type": "markdown",
   "metadata": {
    "collapsed": true,
    "slideshow": {
     "slide_type": "slide"
    }
   },
   "source": [
    "# Pilas incluidas\n",
    "\n",
    "* Biblioteca Estándar muy amplia\n",
    "    * os (Sistema operativo)\n",
    "    * re (Expresiones regulares)\n",
    "    * math, random\n",
    "    * datetime, locale\n",
    "    * urllib (Internet)\n",
    "    * zlib (Compresión)\n",
    "    * doctest (Pruebas integradas)\n",
    "    * email\n",
    "    * csv\n",
    "    * xmlrpc"
   ]
  },
  {
   "cell_type": "markdown",
   "metadata": {
    "slideshow": {
     "slide_type": "fragment"
    }
   },
   "source": [
    "* PyPI - the Python Package Index\n",
    "    * pip install [el mundo en tus dedos]"
   ]
  },
  {
   "cell_type": "markdown",
   "metadata": {
    "slideshow": {
     "slide_type": "slide"
    }
   },
   "source": [
    "# Donde\n",
    "\n",
    "* Web\n",
    "    * Django\n",
    "    * web2py\n",
    "    * Flask\n",
    "* GUI\n",
    "    * PyGTK\n",
    "    * PyQt, PySide\n",
    "    * Tkinter\n",
    "* Juegos\n",
    "    * Pygame\n",
    "    * Pilas (Aprende jugando)\n",
    "* Ciencias\n",
    "    * Numpy\n",
    "    * Scipy\n",
    "    * Matplotlib"
   ]
  },
  {
   "cell_type": "markdown",
   "metadata": {
    "collapsed": true,
    "slideshow": {
     "slide_type": "slide"
    }
   },
   "source": [
    "# Herramientas\n",
    "\n",
    "* Hay muchas y para elegir.\n",
    "    * Todo en uno: IDEs\n",
    "    * Separadas: editor, diseño, debug, virtualenv, consola, etc...\n",
    "\n",
    "# Soporte\n",
    "\n",
    "* Mucha documentación y material abierto\n",
    "    * Comunidades muy activas y abiertas a ayudar."
   ]
  },
  {
   "cell_type": "markdown",
   "metadata": {
    "slideshow": {
     "slide_type": "slide"
    }
   },
   "source": [
    "# FIN?"
   ]
  }
 ],
 "metadata": {
  "celltoolbar": "Slideshow",
  "kernelspec": {
   "display_name": "Python 3",
   "language": "python",
   "name": "python3"
  },
  "language_info": {
   "codemirror_mode": {
    "name": "ipython",
    "version": 3
   },
   "file_extension": ".py",
   "mimetype": "text/x-python",
   "name": "python",
   "nbconvert_exporter": "python",
   "pygments_lexer": "ipython3",
   "version": "3.4.3"
  }
 },
 "nbformat": 4,
 "nbformat_minor": 0
}
